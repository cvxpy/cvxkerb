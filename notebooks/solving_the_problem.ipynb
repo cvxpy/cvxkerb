{
 "cells": [
  {
   "cell_type": "code",
   "execution_count": null,
   "metadata": {
    "tags": []
   },
   "outputs": [],
   "source": [
    "from typing import Tuple\n",
    "\n",
    "import cvxpy as cp\n",
    "import matplotlib.pyplot as plt\n",
    "import numpy as np\n",
    "from matplotlib import cm"
   ]
  },
  {
   "cell_type": "markdown",
   "metadata": {},
   "source": [
    "# Test data"
   ]
  },
  {
   "cell_type": "code",
   "execution_count": null,
   "metadata": {
    "collapsed": false,
    "jupyter": {
     "outputs_hidden": false
    }
   },
   "outputs": [],
   "source": [
    "h = 1  # discretization step in s\n",
    "g = 0.1  # gravity in m/s^2\n",
    "m = 10.0  # mass in kg\n",
    "F_max = 10.0  # maximum thrust in Newton\n",
    "p0 = np.array([50, 50, 100])  # initial position in m\n",
    "v0 = np.array([-10, 0, -10])  # initial velocity in m/s\n",
    "p_target = np.array([0, 0, 0])  # target position in m\n",
    "alpha = np.pi / 8  # glide angle in rad\n",
    "gamma = 1.0  # fuel consumption coefficient\n",
    "K = 35  # number of discretization steps"
   ]
  },
  {
   "cell_type": "markdown",
   "metadata": {},
   "source": [
    "# Formulate the optimization problem"
   ]
  },
  {
   "cell_type": "code",
   "execution_count": null,
   "metadata": {
    "collapsed": false,
    "jupyter": {
     "outputs_hidden": false
    }
   },
   "outputs": [],
   "source": [
    "def optimize_fuel(\n",
    "    p_target: np.ndarray,\n",
    "    g: float,\n",
    "    m: float,\n",
    "    p0: np.ndarray,\n",
    "    v0: np.ndarray,\n",
    "    K: int,\n",
    "    h: float,\n",
    "    F_max: float,\n",
    "    alpha: float,\n",
    "    gamma: float,\n",
    "    **kwargs: dict,\n",
    ") -> Tuple[np.ndarray, np.ndarray]:\n",
    "    \"\"\"\n",
    "\n",
    "    Minimize fuel consumption for a rocket to land on a target\n",
    "\n",
    "    :param p_target: landing target in m\n",
    "    :param g: gravitational acceleration in m/s^2\n",
    "    :param m: mass in kg\n",
    "    :param p0: position in m\n",
    "    :param v0: velocity in m/s\n",
    "    :param K: Number of discretization steps\n",
    "    :param h: discretization step in s\n",
    "    :param F_max: maximum thrust of engine in kg*m/s^2 (Newton)\n",
    "    :param alpha: Glide path angle in radian\n",
    "    :param gamma: converts fuel consumption to liters of fuel consumption\n",
    "    :return: position and thrust over time\n",
    "    \"\"\"\n",
    "\n",
    "    P_min = p_target[2]\n",
    "\n",
    "    # Variables\n",
    "    V = cp.Variable((K + 1, 3))  # velocity\n",
    "    P = cp.Variable((K + 1, 3))  # position\n",
    "    F = cp.Variable((K, 3))  # thrust\n",
    "\n",
    "    # Constraints\n",
    "    # Match initial position and initial velocity\n",
    "    constraints = [...]\n",
    "\n",
    "    # Keep height above P_min\n",
    "    constraints += [...]\n",
    "\n",
    "    # Match final position and 0 velocity\n",
    "    constraints += [...]\n",
    "\n",
    "    # Physics dynamics for velocity\n",
    "    constraints += [...]\n",
    "\n",
    "    # Physics dynamics for position\n",
    "    constraints += [...]\n",
    "\n",
    "    # Glide path constraint\n",
    "    # constraints += [...]  # Added later\n",
    "\n",
    "    # Maximum thrust constraint\n",
    "    constraints += [...]\n",
    "\n",
    "    fuel_consumption = ...\n",
    "\n",
    "    problem = cp.Problem(cp.Minimize(fuel_consumption), constraints)\n",
    "    problem.solve(**kwargs)\n",
    "    return P.value, F.value, V.value"
   ]
  },
  {
   "cell_type": "markdown",
   "metadata": {},
   "source": [
    "# Solve the problem"
   ]
  },
  {
   "cell_type": "code",
   "execution_count": null,
   "metadata": {
    "collapsed": false,
    "jupyter": {
     "outputs_hidden": false
    }
   },
   "outputs": [],
   "source": [
    "P_star, F_star, V_star = optimize_fuel(\n",
    "    p_target, g, m, p0, v0, K, h, F_max, alpha, gamma\n",
    ")"
   ]
  },
  {
   "cell_type": "markdown",
   "metadata": {},
   "source": [
    "# Plot the trajectory"
   ]
  },
  {
   "cell_type": "code",
   "execution_count": null,
   "outputs": [],
   "source": [
    "fig = plt.figure()\n",
    "ax = fig.add_subplot(projection=\"3d\")\n",
    "X = np.linspace(P_star[:, 0].min() - 10, P_star[:, 0].max() + 10, num=30)\n",
    "Y = np.linspace(P_star[:, 1].min() - 10, P_star[:, 1].max() + 10, num=30)\n",
    "X, Y = np.meshgrid(X, Y)\n",
    "Z = np.tan(alpha) * np.sqrt(X**2 + Y**2)\n",
    "ax.plot_surface(\n",
    "    X,\n",
    "    Y,\n",
    "    Z,\n",
    "    rstride=1,\n",
    "    cstride=1,\n",
    "    cmap=cm.autumn,\n",
    "    linewidth=0.1,\n",
    "    alpha=0.7,\n",
    "    edgecolors=\"k\",\n",
    ")\n",
    "ax = plt.gca()\n",
    "ax.view_init(azim=180)\n",
    "ax.plot(xs=P_star[:, 0], ys=P_star[:, 1], zs=P_star[:, 2], c=\"b\", lw=2, zorder=5)\n",
    "\n",
    "ax.quiver(\n",
    "    P_star[:-1, 0],\n",
    "    P_star[:-1, 1],\n",
    "    P_star[:-1, 2],\n",
    "    F_star[:, 0],\n",
    "    F_star[:, 1],\n",
    "    F_star[:, 2],\n",
    "    zorder=5,\n",
    "    color=\"black\",\n",
    "    length=2,\n",
    ")\n",
    "\n",
    "ax.set_xlabel(\"x\")\n",
    "ax.set_ylabel(\"y\")\n",
    "ax.set_zlabel(\"z\")\n",
    "plt.show()"
   ],
   "metadata": {
    "collapsed": false
   }
  },
  {
   "cell_type": "markdown",
   "source": [
    "# Plot the Position, Velocity and Thrust over time"
   ],
   "metadata": {
    "collapsed": false
   }
  },
  {
   "cell_type": "code",
   "execution_count": null,
   "outputs": [],
   "source": [
    "fig, ax = plt.subplots(3, 1, sharex=True)\n",
    "\n",
    "ax[0].plot(P_star[:, 0], label=\"x\")\n",
    "ax[0].plot(P_star[:, 1], label=\"y\")\n",
    "ax[0].plot(P_star[:, 2], label=\"z\")\n",
    "ax[0].set_ylabel(\"Position\")\n",
    "ax[0].legend()\n",
    "\n",
    "ax[1].plot(F_star[:, 0], label=\"x\")\n",
    "ax[1].plot(F_star[:, 1], label=\"y\")\n",
    "ax[1].plot(F_star[:, 2], label=\"z\")\n",
    "ax[1].set_ylabel(\"Thrust\")\n",
    "ax[1].legend()\n",
    "\n",
    "ax[2].plot(V_star[:, 0], label=\"x\")\n",
    "ax[2].plot(V_star[:, 1], label=\"y\")\n",
    "ax[2].plot(V_star[:, 2], label=\"z\")\n",
    "ax[2].set_ylabel(\"Velocity\")\n",
    "ax[2].legend()\n",
    "\n",
    "plt.show()"
   ],
   "metadata": {
    "collapsed": false
   }
  }
 ],
 "metadata": {
  "kernelspec": {
   "display_name": "Python 3 (ipykernel)",
   "language": "python",
   "name": "python3"
  },
  "language_info": {
   "codemirror_mode": {
    "name": "ipython",
    "version": 3
   },
   "file_extension": ".py",
   "mimetype": "text/x-python",
   "name": "python",
   "nbconvert_exporter": "python",
   "pygments_lexer": "ipython3",
   "version": "3.8.12"
  }
 },
 "nbformat": 4,
 "nbformat_minor": 4
}
