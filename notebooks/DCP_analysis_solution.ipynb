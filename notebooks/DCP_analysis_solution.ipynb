{
 "cells": [
  {
   "attachments": {},
   "cell_type": "markdown",
   "metadata": {},
   "source": [
    "# Hello, world!\n",
    "\n",
    "Solve the following optimization problem using CVXPY:\n",
    "\n",
    "\\begin{array}{ll} \\mbox{minimize} & |x| - 2\\sqrt{y}\\\\\n",
    "\\mbox{subject to} & 2 \\geq e^x \\\\\n",
    "& x + y = 5,\n",
    "\\end{array}\n",
    "\n",
    "where $x,y \\in \\mathbf{R}$ are variables.\n",
    "\n",
    "Find the optimal values of $x$ and $y$."
   ]
  },
  {
   "cell_type": "code",
   "execution_count": 1,
   "metadata": {
    "collapsed": true,
    "ExecuteTime": {
     "end_time": "2023-07-14T16:39:28.339633263Z",
     "start_time": "2023-07-14T16:39:27.979947146Z"
    }
   },
   "outputs": [
    {
     "name": "stdout",
     "output_type": "stream",
     "text": [
      "Optimal value: -4.472135941007283\n",
      "Optimal x: 9.668438494259135e-09\n",
      "Optimal y: 4.9999999903315615\n"
     ]
    }
   ],
   "source": [
    "import cvxpy as cp\n",
    "\n",
    "# Define our variables.\n",
    "x = cp.Variable()\n",
    "y = cp.Variable()\n",
    "\n",
    "# NOTE: Form expressions using NumPy syntax.\n",
    "# For example, |x| = cp.abs(x)\n",
    "\n",
    "# TODO: Form the objective.\n",
    "objective = cp.abs(x) - 2 * cp.sqrt(y)\n",
    "\n",
    "# TODO: Form the constraints list.\n",
    "constraints = [2 >= cp.exp(x), x + y == 5]\n",
    "\n",
    "prob = cp.Problem(cp.Minimize(objective), constraints)\n",
    "opt_val = prob.solve()\n",
    "\n",
    "print(\"Optimal value:\", opt_val)\n",
    "print(\"Optimal x:\", x.value)\n",
    "print(\"Optimal y:\", y.value)"
   ]
  },
  {
   "attachments": {},
   "cell_type": "markdown",
   "metadata": {},
   "source": [
    "# DCP analysis"
   ]
  },
  {
   "attachments": {},
   "cell_type": "markdown",
   "metadata": {},
   "source": [
    "### Problem 1\n",
    "\n",
    "Write the function \n",
    "$$\n",
    "    f(x) = \\sum_{i=1}^n e^{(a_i^Tx+b_i)_+}\n",
    "$$\n",
    "in CVXPY and show that it is convex."
   ]
  },
  {
   "cell_type": "code",
   "execution_count": 2,
   "metadata": {
    "ExecuteTime": {
     "end_time": "2023-07-14T16:39:28.348927173Z",
     "start_time": "2023-07-14T16:39:28.340852893Z"
    }
   },
   "outputs": [],
   "source": [
    "# Problem 1 code.\n",
    "import cvxpy as cp\n",
    "import numpy as np\n",
    "\n",
    "n = 2\n",
    "m = 5\n",
    "np.random.seed()\n",
    "x = cp.Variable(m)\n",
    "a_1 = np.random.randn(m)\n",
    "b_1 = np.random.rand()\n",
    "a_2 = np.random.randn(m)\n",
    "b_2 = np.random.rand()\n",
    "\n",
    "# TODO define f and show that it is convex.\n",
    "f = cp.exp(cp.pos(a_1 @ x + b_1)) + cp.exp(cp.pos(a_2 @ x + b_2))\n",
    "assert f.is_convex()"
   ]
  },
  {
   "attachments": {},
   "cell_type": "markdown",
   "metadata": {},
   "source": [
    "### Problem 2\n",
    "\n",
    "Now write the function\n",
    "$$\n",
    "g(x) = \\sqrt{x^2 + 1}\n",
    "$$\n",
    "in a way that CVXPY recognizes as convex."
   ]
  },
  {
   "cell_type": "code",
   "execution_count": 3,
   "metadata": {
    "ExecuteTime": {
     "end_time": "2023-07-14T16:39:28.354448684Z",
     "start_time": "2023-07-14T16:39:28.351486055Z"
    }
   },
   "outputs": [],
   "source": [
    "# Problem 2 code.\n",
    "import cvxpy as cp\n",
    "\n",
    "x = cp.Variable()\n",
    "\n",
    "# TODO define g in a way that CVXPY recognizes as convex.\n",
    "# Note that 1^2 = 1, so we can use the norm2 function.\n",
    "g = cp.norm2(cp.hstack([x, 1]))\n",
    "assert g.is_convex()"
   ]
  }
 ],
 "metadata": {
  "kernelspec": {
   "display_name": "Python 3",
   "language": "python",
   "name": "python3"
  },
  "language_info": {
   "codemirror_mode": {
    "name": "ipython",
    "version": 3
   },
   "file_extension": ".py",
   "mimetype": "text/x-python",
   "name": "python",
   "nbconvert_exporter": "python",
   "pygments_lexer": "ipython3",
   "version": "3.7.0"
  }
 },
 "nbformat": 4,
 "nbformat_minor": 1
}
