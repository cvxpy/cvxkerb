{
 "cells": [
  {
   "cell_type": "code",
   "execution_count": 1,
   "metadata": {
    "tags": [],
    "ExecuteTime": {
     "end_time": "2023-07-14T16:40:58.587916464Z",
     "start_time": "2023-07-14T16:40:57.984118339Z"
    }
   },
   "outputs": [],
   "source": [
    "import time\n",
    "\n",
    "import cvxpy as cp\n",
    "import matplotlib.pyplot as plt\n",
    "import numpy as np"
   ]
  },
  {
   "cell_type": "markdown",
   "metadata": {},
   "source": [
    "# Test data"
   ]
  },
  {
   "cell_type": "code",
   "execution_count": 2,
   "metadata": {
    "collapsed": false,
    "jupyter": {
     "outputs_hidden": false
    },
    "ExecuteTime": {
     "end_time": "2023-07-14T16:40:58.594356138Z",
     "start_time": "2023-07-14T16:40:58.592532762Z"
    }
   },
   "outputs": [],
   "source": [
    "h = 1  # discretization step in s\n",
    "g = 0.1  # gravity in m/s^2\n",
    "m = 10.0  # mass in kg\n",
    "F_max = 10.0  # maximum thrust in Newton\n",
    "p_target = np.array([0, 0, 0])  # target position in m\n",
    "alpha = np.pi / 8  # glide angle in rad\n",
    "gamma = 1.0  # fuel consumption coefficient\n",
    "K = 35  # number of discretization steps"
   ]
  },
  {
   "cell_type": "markdown",
   "metadata": {},
   "source": [
    "# Formulate the optimization problem"
   ]
  },
  {
   "cell_type": "code",
   "execution_count": 3,
   "metadata": {
    "collapsed": false,
    "jupyter": {
     "outputs_hidden": false
    },
    "ExecuteTime": {
     "end_time": "2023-07-14T16:40:58.604535561Z",
     "start_time": "2023-07-14T16:40:58.602270794Z"
    }
   },
   "outputs": [],
   "source": [
    "def optimize_fuel(\n",
    "    p_target: np.ndarray,\n",
    "    g: float,\n",
    "    m: float,\n",
    "    K: int,\n",
    "    h: float,\n",
    "    F_max: float,\n",
    "    alpha: float,\n",
    "    gamma: float,\n",
    ") -> cp.Problem:\n",
    "    \"\"\"\n",
    "\n",
    "    Minimize fuel consumption for a rocket to land on a target\n",
    "\n",
    "    :param p_target: landing target in m\n",
    "    :param g: gravitational acceleration in m/s^2\n",
    "    :param m: mass in kg\n",
    "    :param K: Number of discretization steps\n",
    "    :param h: discretization step in s\n",
    "    :param F_max: maximum thrust of engine in kg*m/s^2 (Newton)\n",
    "    :param alpha: Glide path angle in radian\n",
    "    :param gamma: converts fuel consumption to liters of fuel consumption\n",
    "    :return: parametrized problem\n",
    "    \"\"\"\n",
    "\n",
    "    P_min = p_target[2]\n",
    "\n",
    "    # Parameters are symbolic constants, i.e., we can set the values later\n",
    "    p0 = cp.Parameter(3)\n",
    "    v0 = cp.Parameter(3)\n",
    "\n",
    "    # Variables\n",
    "    V = cp.Variable((K + 1, 3))  # velocity\n",
    "    P = cp.Variable((K + 1, 3))  # position\n",
    "    F = cp.Variable((K, 3))  # thrust\n",
    "\n",
    "    # Constraints\n",
    "    # Match initial position and initial velocity\n",
    "    constraints = [\n",
    "        V[0] == v0,\n",
    "        P[0] == p0,\n",
    "    ]\n",
    "\n",
    "    # Keep height above P_min\n",
    "    constraints += [P[:, 2] >= P_min]\n",
    "\n",
    "    # Match final position and 0 velocity\n",
    "    constraints += [\n",
    "        V[K] == [0, 0, 0],\n",
    "        P[K] == p_target,\n",
    "    ]\n",
    "\n",
    "    # Physics dynamics for velocity\n",
    "    constraints += [V[1:, :2] == V[:-1, :2] + h * (F[:, :2] / m)]\n",
    "    constraints += [V[1:, 2] == V[:-1, 2] + h * (F[:, 2] / m - g)]\n",
    "\n",
    "    # Physics dynamics for position\n",
    "    constraints += [P[1:] == P[:-1] + (h / 2) * (V[:-1] + V[1:])]\n",
    "\n",
    "    # Glide path constraint\n",
    "    constraints += [P[:, 2] >= np.tan(alpha) * cp.norm(P[:, :2], axis=1)]\n",
    "\n",
    "    # Maximum thrust constraint\n",
    "    constraints += [cp.norm(F, 2, axis=1) <= F_max]\n",
    "\n",
    "    fuel_consumption = gamma * cp.sum(cp.norm(F, axis=1))\n",
    "\n",
    "    problem = cp.Problem(cp.Minimize(fuel_consumption), constraints)\n",
    "    return problem, p0, v0"
   ]
  },
  {
   "cell_type": "markdown",
   "metadata": {},
   "source": [
    "# Solve the problem many times\n",
    "\n",
    "We solve the problem many times and observe a large speedup after the first solve when using a parametrized problem.\n",
    "This is because the canonicalization map is only computed once and cached for subsequent solves."
   ]
  },
  {
   "cell_type": "code",
   "execution_count": 4,
   "metadata": {
    "collapsed": false,
    "jupyter": {
     "outputs_hidden": false
    },
    "ExecuteTime": {
     "end_time": "2023-07-14T16:40:59.912652153Z",
     "start_time": "2023-07-14T16:40:58.622356464Z"
    }
   },
   "outputs": [],
   "source": [
    "parametrized_problem, p0, v0 = optimize_fuel(p_target, g, m, K, h, F_max, alpha, gamma)\n",
    "\n",
    "times = []\n",
    "for i in range(100):\n",
    "    start = time.time()\n",
    "    p0.value = np.array([50, 50, 100]) + np.random.random(3)\n",
    "    v0.value = np.array([-10, 0, -10]) + np.random.random(3)\n",
    "    parametrized_problem.solve()\n",
    "    times.append(time.time() - start)"
   ]
  },
  {
   "cell_type": "code",
   "execution_count": 5,
   "outputs": [
    {
     "data": {
      "text/plain": "[<matplotlib.lines.Line2D at 0x7f1ee27c7bb0>]"
     },
     "execution_count": 5,
     "metadata": {},
     "output_type": "execute_result"
    },
    {
     "data": {
      "text/plain": "<Figure size 640x480 with 1 Axes>",
      "image/png": "[encoded data removed]"
     },
     "metadata": {},
     "output_type": "display_data"
    }
   ],
   "source": [
    "plt.plot(times)"
   ],
   "metadata": {
    "collapsed": false,
    "ExecuteTime": {
     "end_time": "2023-07-14T16:41:00.077788248Z",
     "start_time": "2023-07-14T16:40:59.915353116Z"
    }
   }
  }
 ],
 "metadata": {
  "kernelspec": {
   "display_name": "Python 3 (ipykernel)",
   "language": "python",
   "name": "python3"
  },
  "language_info": {
   "codemirror_mode": {
    "name": "ipython",
    "version": 3
   },
   "file_extension": ".py",
   "mimetype": "text/x-python",
   "name": "python",
   "nbconvert_exporter": "python",
   "pygments_lexer": "ipython3",
   "version": "3.8.12"
  }
 },
 "nbformat": 4,
 "nbformat_minor": 4
}
